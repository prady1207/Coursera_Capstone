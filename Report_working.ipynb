{
 "cells": [
  {
   "cell_type": "markdown",
   "id": "03a8d8b7",
   "metadata": {},
   "source": [
    "## Opening a Café in Toronto"
   ]
  },
  {
   "cell_type": "markdown",
   "id": "e6c310fc",
   "metadata": {},
   "source": [
    "## Introduction"
   ]
  },
  {
   "cell_type": "markdown",
   "id": "0c319c3d",
   "metadata": {},
   "source": [
    "Toronto is the capital city of Canadian province of Ontario. It is the most populous city in Canada, a multicultural city, and Canada's financial and commercial centre. It is home to more than 2,731,571 people spread over an area of 630.2 sq. km. \n",
    "\n",
    "Mumbai is the capital city of Maharashtra state of India. It is the laergest city in India, being a cultural and financial centre for the country. It is home to more than 12.5 million people spread over 603.4 sq. km.\n",
    "\n",
    "Despite being so far apart from each other, Mumbai and Toronto share a few characteristics i.e. similar areas, being the cultural and financial centres of their respective countries. \n",
    "\n",
    "My goal is to analyse how different the neighborhoods in both these cities are by utilizing the location data of their neighborhoods and different venues present in them.\n"
   ]
  },
  {
   "cell_type": "markdown",
   "id": "a6b619f3",
   "metadata": {},
   "source": [
    "## Data"
   ]
  },
  {
   "cell_type": "markdown",
   "id": "cae0be76",
   "metadata": {},
   "source": [
    "### Location Data\n",
    "\n",
    "\n",
    "This project utilizes neighborhood names and location data scrapped from Wikipedia atricles of [Toronto Neighborhoods](https://en.wikipedia.org/wiki/List_of_neighbourhoods_in_Toronto) and  [Mumbai Neighborhoods](https://en.wikipedia.org/wiki/List_of_neighbourhoods_in_Mumbai)read through **`pandas.read_html()`** function and **BeautifulSoup4 Library**. This data is then used to get appropriate location encodings if not present for the neighborhoods. \n",
    "\n",
    "There are 103 records in Toronto Neighborhood data each containing multiple neighborhoods while there are a total of 93 records in Mumbai Neighborhood data each containing single neighborhood.\n",
    "\n",
    "Distribution of Neighborhoods in Toronto:\n",
    "\n",
    "(https://github.com/prady1207/Coursera_Capstone/Visualizations/toronto_neigh_dist.png)\n",
    "\n",
    "Distribution of Neighborhoods in Mumbai:\n",
    "\n",
    "(https://github.com/prady1207/Coursera_Capstone/Visualizations/mumbai_neigh_dist.png)\n",
    "\n",
    "### Venues Data\n",
    "\n",
    "The data for recommended venues in each neighborhood is procured using Foursquare API. This data is further modified by getting the main category for each venue instead of the sub category gotten through api request. The data is then filtered to remove venue categories with less than 10 instances in all neighborhoods which further reduces the no of features we will work with while clustering neighborhoods. \n",
    "\n",
    "Final Data preparation step consists of one-hot encoding the category column to get proper features for each venue. Further grouping by Nieghborhood is done with agg function being `sum()`.\n",
    "\n",
    "Lastly the data is utilized in clustering algorithm to cluster similar neighborhoods and for further analysis. \n"
   ]
  }
 ],
 "metadata": {
  "kernelspec": {
   "display_name": "Python 3",
   "language": "python",
   "name": "python3"
  },
  "language_info": {
   "codemirror_mode": {
    "name": "ipython",
    "version": 3
   },
   "file_extension": ".py",
   "mimetype": "text/x-python",
   "name": "python",
   "nbconvert_exporter": "python",
   "pygments_lexer": "ipython3",
   "version": "3.8.10"
  }
 },
 "nbformat": 4,
 "nbformat_minor": 5
}
