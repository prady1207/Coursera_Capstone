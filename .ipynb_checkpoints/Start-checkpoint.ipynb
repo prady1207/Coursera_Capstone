{
 "cells": [
  {
   "cell_type": "markdown",
   "id": "d2755e78",
   "metadata": {},
   "source": [
    "### Purpose of this notbook"
   ]
  },
  {
   "cell_type": "markdown",
   "id": "1e34d369",
   "metadata": {},
   "source": [
    "This notebook will be used for the capstone project of Data Science Specialization on Coursera. The project will be based on neighborhood segmentation and analysis from location data."
   ]
  },
  {
   "cell_type": "markdown",
   "id": "66f7af36",
   "metadata": {},
   "source": [
    "### Importing important libraries"
   ]
  },
  {
   "cell_type": "code",
   "execution_count": 1,
   "id": "8dd9632f",
   "metadata": {},
   "outputs": [],
   "source": [
    "import pandas as pd\n",
    "import numpy as np"
   ]
  },
  {
   "cell_type": "code",
   "execution_count": 2,
   "id": "c66d8f12",
   "metadata": {},
   "outputs": [
    {
     "name": "stdout",
     "output_type": "stream",
     "text": [
      "Hello Capstone Project Course!\n"
     ]
    }
   ],
   "source": [
    "print('Hello Capstone Project Course!')"
   ]
  }
 ],
 "metadata": {
  "kernelspec": {
   "display_name": "Python 3",
   "language": "python",
   "name": "python3"
  },
  "language_info": {
   "codemirror_mode": {
    "name": "ipython",
    "version": 3
   },
   "file_extension": ".py",
   "mimetype": "text/x-python",
   "name": "python",
   "nbconvert_exporter": "python",
   "pygments_lexer": "ipython3",
   "version": "3.8.10"
  }
 },
 "nbformat": 4,
 "nbformat_minor": 5
}
